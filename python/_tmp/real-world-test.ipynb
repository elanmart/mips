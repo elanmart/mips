{
 "cells": [
  {
   "cell_type": "code",
   "execution_count": 1,
   "metadata": {
    "collapsed": true
   },
   "outputs": [],
   "source": [
    "import collections as cl\n",
    "\n",
    "import faiss\n",
    "import numpy as np\n",
    "import torch as th\n",
    "\n",
    "from misc import load_sift, save_sift"
   ]
  },
  {
   "cell_type": "markdown",
   "metadata": {},
   "source": [
    "### Load vectors extracted from fasttext"
   ]
  },
  {
   "cell_type": "code",
   "execution_count": 30,
   "metadata": {},
   "outputs": [
    {
     "name": "stdout",
     "output_type": "stream",
     "text": [
      "Loaded dataset of 566_010, 256-dimensionsl queries (examples)\n",
      "The dataset contains 163_679 classes, and more than one class can be positive\n"
     ]
    }
   ],
   "source": [
    "xq = load_sift('../data/siftLSHTC/predictions.hid.fvecs', dtype=np.float32)\n",
    "xb = load_sift('../data/siftLSHTC/predictions.wo.fvecs', dtype=np.float32)\n",
    "xb = np.ascontiguousarray(xb.T)\n",
    "\n",
    "n, d, c = xq.shape[0], xq.shape[1], xb.shape[1]\n",
    "\n",
    "print(f\"Loaded dataset of {n:_}, {d:_}-dimensionsl queries (examples)\")\n",
    "print(f\"The dataset contains {c:_} classes, and more than one class can be positive\")"
   ]
  },
  {
   "cell_type": "markdown",
   "metadata": {},
   "source": [
    "### Load groundtruth"
   ]
  },
  {
   "cell_type": "code",
   "execution_count": 3,
   "metadata": {
    "collapsed": true
   },
   "outputs": [],
   "source": [
    "gt = []\n",
    "for line in open('../data/siftLSHTC/predictions.labels.txt'):\n",
    "    gt.append({int(y) for y in line.split()})"
   ]
  },
  {
   "cell_type": "markdown",
   "metadata": {},
   "source": [
    "# Evaluate matmul approach"
   ]
  },
  {
   "cell_type": "markdown",
   "metadata": {},
   "source": [
    "### Compute scores"
   ]
  },
  {
   "cell_type": "code",
   "execution_count": 4,
   "metadata": {},
   "outputs": [
    {
     "name": "stdout",
     "output_type": "stream",
     "text": [
      "CPU times: user 36.8 s, sys: 14.9 s, total: 51.7 s\n",
      "Wall time: 51.7 s\n"
     ]
    }
   ],
   "source": [
    "%%time\n",
    "\n",
    "BATCH_SIZE = 1024\n",
    "K = 1\n",
    "\n",
    "tq = th.from_numpy(xq).cuda()\n",
    "tb = th.from_numpy(xb).cuda()\n",
    "ti = th.cuda.LongTensor(tq.shape[0], K)\n",
    "\n",
    "start_idx = 0\n",
    "while start_idx < tq.shape[0]:\n",
    "    stop_idx = min(start_idx + BATCH_SIZE, tq.shape[0])\n",
    "    \n",
    "    scores = tq[start_idx:stop_idx, :] @ tb\n",
    "    D, I = th.topk(scores, K)\n",
    "    \n",
    "    ti[start_idx:stop_idx, :] = I    \n",
    "    \n",
    "    start_idx = stop_idx\n",
    "    \n",
    "ti = ti.cpu()    \n",
    "th.cuda.synchronize()"
   ]
  },
  {
   "cell_type": "markdown",
   "metadata": {},
   "source": [
    "### Evaluate p@1"
   ]
  },
  {
   "cell_type": "code",
   "execution_count": 5,
   "metadata": {},
   "outputs": [
    {
     "name": "stdout",
     "output_type": "stream",
     "text": [
      "Precision @ 1: 0.30991325241603507\n"
     ]
    }
   ],
   "source": [
    "p1 = 0.\n",
    "for i, item in enumerate(ti.cpu().numpy()):\n",
    "    p1 += float(int(item[0]) in gt[i])\n",
    "    \n",
    "p1 /= len(gt)\n",
    "\n",
    "print(f'Precision @ 1: {p1}')"
   ]
  },
  {
   "cell_type": "markdown",
   "metadata": {},
   "source": [
    "# Evaluate GPU-Flat"
   ]
  },
  {
   "cell_type": "markdown",
   "metadata": {},
   "source": [
    "### Setup"
   ]
  },
  {
   "cell_type": "code",
   "execution_count": 6,
   "metadata": {},
   "outputs": [
    {
     "name": "stdout",
     "output_type": "stream",
     "text": [
      "CPU times: user 220 ms, sys: 68 ms, total: 288 ms\n",
      "Wall time: 285 ms\n"
     ]
    }
   ],
   "source": [
    "%%time\n",
    "\n",
    "if xb.shape[1] > xb.shape[0]:\n",
    "    xb = np.ascontiguousarray(xb.T)\n",
    "\n",
    "res = faiss.StandardGpuResources()\n",
    "flat_config = faiss.GpuIndexFlatConfig()\n",
    "flat_config.device = 0\n",
    "\n",
    "index = faiss.GpuIndexFlatIP(res, xb.shape[1], flat_config)\n",
    "index.add(xb)\n",
    "\n",
    "res.syncDefaultStream(0)"
   ]
  },
  {
   "cell_type": "markdown",
   "metadata": {},
   "source": [
    "### Warmup"
   ]
  },
  {
   "cell_type": "code",
   "execution_count": 7,
   "metadata": {},
   "outputs": [],
   "source": [
    "_ = index.search(xq, 1)"
   ]
  },
  {
   "cell_type": "markdown",
   "metadata": {},
   "source": [
    "### Search"
   ]
  },
  {
   "cell_type": "code",
   "execution_count": 8,
   "metadata": {},
   "outputs": [
    {
     "name": "stdout",
     "output_type": "stream",
     "text": [
      "CPU times: user 20.3 s, sys: 1.13 s, total: 21.5 s\n",
      "Wall time: 21.5 s\n"
     ]
    }
   ],
   "source": [
    "%%time\n",
    "\n",
    "D, I = index.search(xq, 1)"
   ]
  },
  {
   "cell_type": "markdown",
   "metadata": {},
   "source": [
    "### Evaluate"
   ]
  },
  {
   "cell_type": "code",
   "execution_count": 9,
   "metadata": {},
   "outputs": [
    {
     "name": "stdout",
     "output_type": "stream",
     "text": [
      "Precision @ 1: 0.30991325241603507\n"
     ]
    }
   ],
   "source": [
    "p1 = 0.\n",
    "for i, item in enumerate(I):\n",
    "    p1 += float(int(item) in gt[i])\n",
    "    \n",
    "p1 /= len(gt)\n",
    "\n",
    "print(f'Precision @ 1: {p1}')"
   ]
  },
  {
   "cell_type": "markdown",
   "metadata": {},
   "source": [
    "# Evaluate GPU-Fast"
   ]
  },
  {
   "cell_type": "markdown",
   "metadata": {},
   "source": [
    "### Setup"
   ]
  },
  {
   "cell_type": "code",
   "execution_count": 10,
   "metadata": {},
   "outputs": [
    {
     "name": "stdout",
     "output_type": "stream",
     "text": [
      "CPU times: user 14 s, sys: 1.26 s, total: 15.3 s\n",
      "Wall time: 7.68 s\n"
     ]
    }
   ],
   "source": [
    "%%time\n",
    "\n",
    "if xb.shape[1] > xb.shape[0]:\n",
    "    xb = np.ascontiguousarray(xb.T)\n",
    "\n",
    "d = xb.shape[1]\n",
    "    \n",
    "res = faiss.StandardGpuResources()\n",
    "flat_config = faiss.GpuIndexFlatConfig()\n",
    "flat_config.device = 0\n",
    "co = faiss.GpuClonerOptions()\n",
    "\n",
    "index = faiss.index_factory(d, \"IVF16384,Flat\", faiss.METRIC_INNER_PRODUCT)\n",
    "index = faiss.index_cpu_to_gpu(res, 0, index, co)\n",
    "\n",
    "index.train(xb)\n",
    "index.add(xb)\n",
    "res.syncDefaultStream(0)"
   ]
  },
  {
   "cell_type": "markdown",
   "metadata": {},
   "source": [
    "### Warmup"
   ]
  },
  {
   "cell_type": "code",
   "execution_count": 11,
   "metadata": {
    "collapsed": true
   },
   "outputs": [],
   "source": [
    "_ = index.search(xq, 1)"
   ]
  },
  {
   "cell_type": "markdown",
   "metadata": {},
   "source": [
    "### Search"
   ]
  },
  {
   "cell_type": "code",
   "execution_count": 15,
   "metadata": {},
   "outputs": [
    {
     "name": "stdout",
     "output_type": "stream",
     "text": [
      "CPU times: user 2.99 s, sys: 188 ms, total: 3.18 s\n",
      "Wall time: 3.2 s\n"
     ]
    }
   ],
   "source": [
    "%%time\n",
    "\n",
    "index.setNumProbes(32)\n",
    "D, I = index.search(xq, 1)"
   ]
  },
  {
   "cell_type": "markdown",
   "metadata": {},
   "source": [
    "### Evaluate"
   ]
  },
  {
   "cell_type": "code",
   "execution_count": 16,
   "metadata": {},
   "outputs": [
    {
     "name": "stdout",
     "output_type": "stream",
     "text": [
      "Precision @ 1: 0.3039946290701578\n"
     ]
    }
   ],
   "source": [
    "p1 = 0.\n",
    "for i, item in enumerate(I):\n",
    "    p1 += float(int(item) in gt[i])\n",
    "    \n",
    "p1 /= len(gt)\n",
    "\n",
    "print(f'Precision @ 1: {p1}')"
   ]
  },
  {
   "cell_type": "markdown",
   "metadata": {
    "collapsed": true
   },
   "source": [
    "# Evaluate CPU Fast"
   ]
  },
  {
   "cell_type": "markdown",
   "metadata": {},
   "source": [
    "### Setup"
   ]
  },
  {
   "cell_type": "code",
   "execution_count": 17,
   "metadata": {
    "scrolled": true
   },
   "outputs": [
    {
     "name": "stdout",
     "output_type": "stream",
     "text": [
      "CPU times: user 3min 17s, sys: 8.62 s, total: 3min 25s\n",
      "Wall time: 51.8 s\n"
     ]
    }
   ],
   "source": [
    "%%time\n",
    "\n",
    "if xb.shape[1] > xb.shape[0]:\n",
    "    xb = np.ascontiguousarray(xb.T)\n",
    "\n",
    "d = xb.shape[1]\n",
    "\n",
    "index = faiss.index_factory(d, \"IVF16384,Flat\", faiss.METRIC_INNER_PRODUCT)\n",
    "\n",
    "index.train(xb)\n",
    "index.add(xb)"
   ]
  },
  {
   "cell_type": "markdown",
   "metadata": {},
   "source": [
    "### Search"
   ]
  },
  {
   "cell_type": "code",
   "execution_count": 25,
   "metadata": {},
   "outputs": [
    {
     "name": "stdout",
     "output_type": "stream",
     "text": [
      "CPU times: user 1min 30s, sys: 3.43 s, total: 1min 34s\n",
      "Wall time: 23.5 s\n"
     ]
    }
   ],
   "source": [
    "%%time\n",
    "\n",
    "index.nprobe = 32\n",
    "D, I = index.search(xq, 1)"
   ]
  },
  {
   "cell_type": "markdown",
   "metadata": {},
   "source": [
    "### Evaluate"
   ]
  },
  {
   "cell_type": "code",
   "execution_count": 26,
   "metadata": {},
   "outputs": [
    {
     "name": "stdout",
     "output_type": "stream",
     "text": [
      "Precision @ 1: 0.3041077012773626\n"
     ]
    }
   ],
   "source": [
    "p1 = 0.\n",
    "for i, item in enumerate(I):\n",
    "    p1 += float(int(item) in gt[i])\n",
    "    \n",
    "p1 /= len(gt)\n",
    "\n",
    "print(f'Precision @ 1: {p1}')"
   ]
  },
  {
   "cell_type": "code",
   "execution_count": 31,
   "metadata": {},
   "outputs": [
    {
     "data": {
      "text/plain": [
       "'/home/elan/Mine/university/inzynierka/mips/tests'"
      ]
     },
     "execution_count": 31,
     "metadata": {},
     "output_type": "execute_result"
    }
   ],
   "source": [
    "pwd"
   ]
  }
 ],
 "metadata": {
  "kernelspec": {
   "display_name": "Python [default]",
   "language": "python",
   "name": "python3"
  },
  "language_info": {
   "codemirror_mode": {
    "name": "ipython",
    "version": 3
   },
   "file_extension": ".py",
   "mimetype": "text/x-python",
   "name": "python",
   "nbconvert_exporter": "python",
   "pygments_lexer": "ipython3",
   "version": "3.6.1"
  },
  "latex_envs": {
   "LaTeX_envs_menu_present": true,
   "autocomplete": true,
   "bibliofile": "biblio.bib",
   "cite_by": "apalike",
   "current_citInitial": 1,
   "eqLabelWithNumbers": true,
   "eqNumInitial": 1,
   "hotkeys": {
    "equation": "Ctrl-E",
    "itemize": "Ctrl-I"
   },
   "labels_anchors": false,
   "latex_user_defs": false,
   "report_style_numbering": false,
   "user_envs_cfg": false
  }
 },
 "nbformat": 4,
 "nbformat_minor": 2
}
