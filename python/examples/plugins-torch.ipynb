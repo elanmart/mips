{
 "cells": [
  {
   "cell_type": "code",
   "execution_count": 1,
   "metadata": {},
   "outputs": [
    {
     "name": "stderr",
     "output_type": "stream",
     "text": [
      "Failed to load GPU Faiss: No module named 'faiss.swigfaiss_gpu'\n",
      "Faiss falling back to CPU-only.\n"
     ]
    }
   ],
   "source": [
    "import torch as th\n",
    "\n",
    "from sklearn.datasets import make_classification\n",
    "from torch.utils.data import TensorDataset, DataLoader\n",
    "from torch.autograd import Variable as V\n",
    "\n",
    "from tqdm import tqdm\n",
    "\n",
    "from pymips.plugins.torch import ApproximateLinear"
   ]
  },
  {
   "cell_type": "markdown",
   "metadata": {},
   "source": [
    "### Create dummy dataset"
   ]
  },
  {
   "cell_type": "code",
   "execution_count": 2,
   "metadata": {
    "collapsed": true
   },
   "outputs": [],
   "source": [
    "X, Y = make_classification(n_samples=100_000, n_features=256, n_informative=256, n_redundant=0, \n",
    "                           n_classes=10_000)\n",
    "\n",
    "X = th.from_numpy(X).float()\n",
    "Y = th.from_numpy(Y).long()"
   ]
  },
  {
   "cell_type": "markdown",
   "metadata": {},
   "source": [
    "### Create the model"
   ]
  },
  {
   "cell_type": "code",
   "execution_count": 43,
   "metadata": {
    "collapsed": true
   },
   "outputs": [],
   "source": [
    "def index_factory(d):\n",
    "    index = faiss.index_factory(d, \"IVF256,Flat\", faiss.METRIC_INNER_PRODUCT)\n",
    "    index.nprobe = 32\n",
    "\n",
    "    return index\n",
    "\n",
    "model = th.nn.Sequential(\n",
    "    th.nn.Linear(256, 256),\n",
    "    th.nn.ReLU(),\n",
    "    ApproximateLinear(256, 10_000, index_factory=index_factory),\n",
    ")\n",
    "\n",
    "dset   = TensorDataset(X, Y)\n",
    "loader = DataLoader(dset, batch_size=64)\n",
    "adam   = th.optim.Adam(model.parameters())"
   ]
  },
  {
   "cell_type": "markdown",
   "metadata": {},
   "source": [
    "### Train"
   ]
  },
  {
   "cell_type": "raw",
   "metadata": {},
   "source": [
    "for x, y in tqdm(loader):\n",
    "    adam.zero_grad()\n",
    "    \n",
    "    x, y = V(x), V(y)\n",
    "    o    = model(x)\n",
    "    \n",
    "    loss = th.nn.functional.nll_loss(o, y)\n",
    "    loss.backward()\n",
    "    \n",
    "    adam.step()"
   ]
  },
  {
   "cell_type": "markdown",
   "metadata": {},
   "source": [
    "### Evaluate full"
   ]
  },
  {
   "cell_type": "code",
   "execution_count": 44,
   "metadata": {},
   "outputs": [
    {
     "name": "stderr",
     "output_type": "stream",
     "text": [
      "100%|██████████| 1563/1563 [00:11<00:00, 135.32it/s]\n"
     ]
    }
   ],
   "source": [
    "preds, targets = [], []\n",
    "loader = DataLoader(dset, batch_size=64, shuffle=False)\n",
    "\n",
    "with th.autograd.no_grad():\n",
    "    for x, y in tqdm(loader):\n",
    "        x, y = V(x), V(y)\n",
    "        o    = model(x)\n",
    "        \n",
    "        p = o.max(1)[1]\n",
    "        \n",
    "        preds.append(p)\n",
    "        targets.append(y)\n",
    "        \n",
    "preds   = th.cat(preds)\n",
    "targets = th.cat(targets)"
   ]
  },
  {
   "cell_type": "code",
   "execution_count": 45,
   "metadata": {},
   "outputs": [
    {
     "name": "stdout",
     "output_type": "stream",
     "text": [
      "0.00012\n"
     ]
    }
   ],
   "source": [
    "acc = float((preds == targets).float().sum() / float(preds.size(0)))\n",
    "print(f'{acc:.5f}')"
   ]
  },
  {
   "cell_type": "markdown",
   "metadata": {},
   "source": [
    "### Evaluate approximate"
   ]
  },
  {
   "cell_type": "code",
   "execution_count": 46,
   "metadata": {},
   "outputs": [
    {
     "name": "stderr",
     "output_type": "stream",
     "text": [
      "100%|██████████| 1563/1563 [00:02<00:00, 560.65it/s]\n"
     ]
    }
   ],
   "source": [
    "preds, targets = [], []\n",
    "loader = DataLoader(dset, batch_size=64, shuffle=False)\n",
    "model  = model.eval()\n",
    "\n",
    "with th.autograd.no_grad():\n",
    "    for x, y in tqdm(loader):\n",
    "        x, y = V(x), V(y)\n",
    "        _, p = model(x)\n",
    "        \n",
    "        preds.append(p.squeeze())\n",
    "        targets.append(y.squeeze())\n",
    "        \n",
    "preds   = th.cat(preds)\n",
    "targets = th.cat(targets)"
   ]
  },
  {
   "cell_type": "code",
   "execution_count": 47,
   "metadata": {},
   "outputs": [
    {
     "name": "stdout",
     "output_type": "stream",
     "text": [
      "0.00013\n"
     ]
    }
   ],
   "source": [
    "acc = float((preds == targets).float().sum() / float(preds.size(0)))\n",
    "print(f'{acc:.5f}')"
   ]
  }
 ],
 "metadata": {
  "kernelspec": {
   "display_name": "Python [default]",
   "language": "python",
   "name": "python3"
  },
  "language_info": {
   "codemirror_mode": {
    "name": "ipython",
    "version": 3
   },
   "file_extension": ".py",
   "mimetype": "text/x-python",
   "name": "python",
   "nbconvert_exporter": "python",
   "pygments_lexer": "ipython3",
   "version": "3.6.1"
  },
  "latex_envs": {
   "LaTeX_envs_menu_present": true,
   "autocomplete": true,
   "bibliofile": "biblio.bib",
   "cite_by": "apalike",
   "current_citInitial": 1,
   "eqLabelWithNumbers": true,
   "eqNumInitial": 1,
   "hotkeys": {
    "equation": "Ctrl-E",
    "itemize": "Ctrl-I"
   },
   "labels_anchors": false,
   "latex_user_defs": false,
   "report_style_numbering": false,
   "user_envs_cfg": false
  }
 },
 "nbformat": 4,
 "nbformat_minor": 1
}
