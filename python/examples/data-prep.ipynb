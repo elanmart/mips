{
 "cells": [
  {
   "cell_type": "markdown",
   "metadata": {},
   "source": [
    "# Local data prep"
   ]
  },
  {
   "cell_type": "code",
   "execution_count": 1,
   "metadata": {},
   "outputs": [
    {
     "name": "stderr",
     "output_type": "stream",
     "text": [
      "Failed to load GPU Faiss: No module named 'swigfaiss_gpu'\n",
      "Faiss falling back to CPU-only.\n"
     ]
    }
   ],
   "source": [
    "import os\n",
    "import sys\n",
    "from pathlib import Path\n",
    "\n",
    "import json\n",
    "import boto3\n",
    "\n",
    "from mtest.data.core import prepare, make_ft_fvecs\n",
    "from mtest.data.sift import generate_gtIP\n",
    "\n",
    "import logging\n",
    "logging.basicConfig(level='DEBUG')\n",
    "logger = logging.getLogger()"
   ]
  },
  {
   "cell_type": "markdown",
   "metadata": {},
   "source": [
    "Rename"
   ]
  },
  {
   "cell_type": "code",
   "execution_count": 2,
   "metadata": {
    "collapsed": true
   },
   "outputs": [],
   "source": [
    "ROOT = Path('/home/elan/Samsung/storage/mips')\n",
    "WIKI = ROOT / 'WikiLSHTC'\n",
    "AMZN = ROOT / 'Amazon-3M'\n",
    "SIFT = ROOT / 'sift'\n",
    "SML  = ROOT / 'siftsmall'\n",
    "\n",
    "assert WIKI.exists() and AMZN.exists() and SIFT.exists() and SML.exists()"
   ]
  },
  {
   "cell_type": "code",
   "execution_count": null,
   "metadata": {
    "collapsed": true
   },
   "outputs": [],
   "source": [
    "os.rename(WIKI / 'wikiLSHTC_train.txt', WIKI / 'train.txt')\n",
    "os.rename(WIKI / 'wikiLSHTC_test.txt',  WIKI / 'test.txt')\n",
    "\n",
    "os.rename(AMZN / 'amazon-3M_train.txt', AMZN / 'train.txt')\n",
    "os.rename(AMZN / 'amazon-3M_test.txt',  AMZN / 'test.txt')\n",
    "\n",
    "os.rename(SML / 'siftsmall_base.fvecs',         SML / 'sift_base.fvecs' )\n",
    "os.rename(SML / 'siftsmall_groundtruth.ivecs',  SML / 'sift_groundtruth.ivecs' )\n",
    "os.rename(SML / 'siftsmall_learn.fvecs',        SML / 'sift_learn.fvecs' )\n",
    "os.rename(SML / 'siftsmall_query.fvecs',        SML / 'sift_query.fvecs' )"
   ]
  },
  {
   "cell_type": "markdown",
   "metadata": {},
   "source": [
    "Generate groundtruth for sift"
   ]
  },
  {
   "cell_type": "code",
   "execution_count": null,
   "metadata": {
    "collapsed": true
   },
   "outputs": [],
   "source": [
    "generate_gtIP(SIFT, SIFT, skip_tests=True)\n",
    "generate_gtIP(SML, SML, skip_tests=True)"
   ]
  },
  {
   "cell_type": "markdown",
   "metadata": {},
   "source": [
    "Rename sift"
   ]
  },
  {
   "cell_type": "code",
   "execution_count": 25,
   "metadata": {
    "collapsed": true
   },
   "outputs": [],
   "source": [
    "for P in [SIFT, SML]:\n",
    "    os.rename(P / 'sift_base.fvecs',   P / 'data.base.fvecs' )\n",
    "    os.rename(P / 'sift_learn.fvecs',  P / 'data.learn.fvecs' )\n",
    "    os.rename(P / 'sift_query.fvecs',  P / 'data.query.fvecs' )"
   ]
  },
  {
   "cell_type": "markdown",
   "metadata": {},
   "source": [
    "Generate data for fasttext"
   ]
  },
  {
   "cell_type": "code",
   "execution_count": 3,
   "metadata": {
    "scrolled": true
   },
   "outputs": [
    {
     "name": "stderr",
     "output_type": "stream",
     "text": [
      "DEBUG:mtest.data.core:Preparing train csr\n",
      "INFO:mtest.data.core:Data not found or `force` flag was passed.\n",
      "DEBUG:mtest.data.core:I'm going to prepare it and store at /home/elan/Samsung/storage/mips/WikiLSHTC/X_train.csr.npz.\n",
      "libsvm to csr for /home/elan/Samsung/storage/mips/WikiLSHTC/train.txt: 100%|██████████| 1778351/1778351 [01:06<00:00, 26917.04it/s]\n",
      "DEBUG:mtest.data.core:# compute masks to get rid of examples with too little words or labels\n",
      "DEBUG:mtest.data.core:# discard unwanted columns\n",
      "DEBUG:mtest.data.core:# make sure each example has at leas one nonzero feature and one label\n",
      "DEBUG:mtest.data.core:# fix csr matrices\n",
      "DEBUG:mtest.data.core:# save the result\n",
      "DEBUG:mtest.data.core:Preparing test csr\n",
      "INFO:mtest.data.core:Data not found or `force` flag was passed.\n",
      "DEBUG:mtest.data.core:I'm going to prepare it and store at /home/elan/Samsung/storage/mips/WikiLSHTC/X_test.csr.npz.\n",
      "libsvm to csr for /home/elan/Samsung/storage/mips/WikiLSHTC/test.txt: 100%|██████████| 587084/587084 [00:23<00:00, 24687.09it/s]\n",
      "DEBUG:mtest.data.core:# compute masks to get rid of examples with too little words or labels\n",
      "DEBUG:mtest.data.core:# discard unwanted columns\n",
      "DEBUG:mtest.data.core:# make sure each example has at leas one nonzero feature and one label\n",
      "DEBUG:mtest.data.core:# fix csr matrices\n",
      "DEBUG:mtest.data.core:# save the result\n",
      "DEBUG:mtest.data.core:Preparing ft\n",
      "to_ft (/home/elan/Samsung/storage/mips/WikiLSHTC/train.ft.txt): 100%|██████████| 1762443/1762443 [04:20<00:00, 6764.36it/s]\n",
      "to_ft (/home/elan/Samsung/storage/mips/WikiLSHTC/test.ft.txt): 100%|██████████| 576246/576246 [01:27<00:00, 6575.64it/s]\n"
     ]
    }
   ],
   "source": [
    "prepare(WIKI, WIKI, force=True)\n",
    "prepare(AMZN, AMZN, force=True)"
   ]
  },
  {
   "cell_type": "markdown",
   "metadata": {},
   "source": [
    "Generate fasttext features"
   ]
  },
  {
   "cell_type": "code",
   "execution_count": 3,
   "metadata": {
    "collapsed": true
   },
   "outputs": [],
   "source": [
    "make_ft_fvecs('../../mips/fastText/fasttext', WIKI, 8)\n",
    "make_ft_fvecs('../../mips/fastText/fasttext', AMZN, 8)"
   ]
  },
  {
   "cell_type": "markdown",
   "metadata": {},
   "source": [
    "Put data on s3"
   ]
  },
  {
   "cell_type": "code",
   "execution_count": 28,
   "metadata": {
    "scrolled": true
   },
   "outputs": [
    {
     "name": "stderr",
     "output_type": "stream",
     "text": [
      "DEBUG:S3Upload:siftsmall/data.base.fvecs\n",
      "DEBUG:S3Upload:siftsmall/data.labels.txt\n",
      "DEBUG:S3Upload:siftsmall/data.learn.fvecs\n",
      "DEBUG:S3Upload:siftsmall/data.query.fvecs\n"
     ]
    }
   ],
   "source": [
    "logging.getLogger('botocore').setLevel('WARNING')\n",
    "logging.getLogger('s3transfer').setLevel('WARNING')\n",
    "logging.getLogger('boto3').setLevel('WARNING')\n",
    "logger = logging.getLogger('S3Upload')\n",
    "\n",
    "\n",
    "cfg    = json.load(open('../aws/config.json'))\n",
    "s3     = boto3.resource('s3')\n",
    "bucket = s3.Bucket(cfg['bucket'])\n",
    "\n",
    "for path in [WIKI, AMZN, SIFT, SML]:\n",
    "    for item in path.glob('data*'):\n",
    "        \n",
    "        key  = f'{path.name}/{item.name}'\n",
    "        item = str(item)\n",
    "        \n",
    "        logger.debug(key)\n",
    "        bucket.upload_file(item, key)"
   ]
  },
  {
   "cell_type": "code",
   "execution_count": 27,
   "metadata": {},
   "outputs": [
    {
     "data": {
      "text/plain": [
       "'/home/elan/Mine/ml-mine/code/mips-tests/notebooks'"
      ]
     },
     "execution_count": 27,
     "metadata": {},
     "output_type": "execute_result"
    }
   ],
   "source": []
  }
 ],
 "metadata": {
  "kernelspec": {
   "display_name": "Python [conda root]",
   "language": "python",
   "name": "conda-root-py"
  },
  "language_info": {
   "codemirror_mode": {
    "name": "ipython",
    "version": 3
   },
   "file_extension": ".py",
   "mimetype": "text/x-python",
   "name": "python",
   "nbconvert_exporter": "python",
   "pygments_lexer": "ipython3",
   "version": "3.6.1"
  },
  "latex_envs": {
   "LaTeX_envs_menu_present": true,
   "autocomplete": true,
   "bibliofile": "biblio.bib",
   "cite_by": "apalike",
   "current_citInitial": 1,
   "eqLabelWithNumbers": true,
   "eqNumInitial": 1,
   "hotkeys": {
    "equation": "Ctrl-E",
    "itemize": "Ctrl-I"
   },
   "labels_anchors": false,
   "latex_user_defs": false,
   "report_style_numbering": false,
   "user_envs_cfg": false
  }
 },
 "nbformat": 4,
 "nbformat_minor": 2
}
