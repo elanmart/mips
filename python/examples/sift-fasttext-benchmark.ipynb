{
 "cells": [
  {
   "cell_type": "markdown",
   "metadata": {},
   "source": [
    "This notebooks reproduces parts of our experimental setup. "
   ]
  },
  {
   "cell_type": "markdown",
   "metadata": {},
   "source": [
    "### Set the root directory where data will be stored"
   ]
  },
  {
   "cell_type": "code",
   "execution_count": null,
   "metadata": {
    "collapsed": true
   },
   "outputs": [],
   "source": [
    "DATA_ROOT = '/tmp/mips-storage'"
   ]
  },
  {
   "cell_type": "markdown",
   "metadata": {},
   "source": [
    "### Download the data"
   ]
  },
  {
   "cell_type": "markdown",
   "metadata": {},
   "source": [
    "You can get sift dataset from [here](http://corpus-texmex.irisa.fr/). Look for `ANN_SIFT1M` in `Details and Download`. Alternatively, you can use the command below"
   ]
  },
  {
   "cell_type": "code",
   "execution_count": null,
   "metadata": {
    "collapsed": true
   },
   "outputs": [],
   "source": [
    "!wget ftp://ftp.irisa.fr/local/texmex/corpus/sift.tar.gz -P $DATA_ROOT\n",
    "!tar -xvf $DATA_ROOT/sift.tar.gz -C $DATA_ROOT"
   ]
  },
  {
   "cell_type": "markdown",
   "metadata": {},
   "source": [
    "You can get wiki dataset from [here](http://manikvarma.org/downloads/XC/XMLRepository.html). Look for `WikiLSHTC-325K`\n",
    "\n",
    "[Here](https://drive.google.com/file/d/0B3lPMIHmG6vGSHE1SWx4TVRva3c/view)'s the exact link to google drive. Please download it to the `${DATA_ROOT}` directory\n"
   ]
  },
  {
   "cell_type": "code",
   "execution_count": null,
   "metadata": {
    "collapsed": true
   },
   "outputs": [],
   "source": [
    "!unzip $DATA_ROOT/WikiLSHTC.zip -d $DATA_ROOT"
   ]
  },
  {
   "cell_type": "markdown",
   "metadata": {},
   "source": [
    "### Rename the files"
   ]
  },
  {
   "cell_type": "code",
   "execution_count": null,
   "metadata": {
    "collapsed": true
   },
   "outputs": [],
   "source": [
    "import os\n",
    "from pathlib import Path"
   ]
  },
  {
   "cell_type": "code",
   "execution_count": null,
   "metadata": {
    "collapsed": true
   },
   "outputs": [],
   "source": [
    "ROOT = Path(DATA_ROOT)\n",
    "\n",
    "WIKI = ROOT / 'WikiLSHTC'\n",
    "SIFT = ROOT / 'sift'"
   ]
  },
  {
   "cell_type": "code",
   "execution_count": null,
   "metadata": {
    "collapsed": true
   },
   "outputs": [],
   "source": [
    "os.rename(WIKI / 'wikiLSHTC_train.txt', WIKI / 'train.txt')\n",
    "os.rename(WIKI / 'wikiLSHTC_test.txt',  WIKI / 'test.txt')"
   ]
  },
  {
   "cell_type": "markdown",
   "metadata": {},
   "source": [
    "### Generate a ground-truth according to inner-product & rename SIFT data\n",
    "\n",
    " (sift ground truth is originally for L2)"
   ]
  },
  {
   "cell_type": "code",
   "execution_count": null,
   "metadata": {
    "collapsed": true
   },
   "outputs": [],
   "source": [
    "from pymips.utils.data import generate_gt"
   ]
  },
  {
   "cell_type": "code",
   "execution_count": null,
   "metadata": {
    "collapsed": true
   },
   "outputs": [],
   "source": [
    "generate_gt(data=SIFT, path=SIFT, skip_tests=True)"
   ]
  },
  {
   "cell_type": "code",
   "execution_count": null,
   "metadata": {
    "collapsed": true
   },
   "outputs": [],
   "source": [
    "os.rename(SIFT / 'sift_base.fvecs',   SIFT / 'data.base.fvecs' )\n",
    "os.rename(SIFT / 'sift_learn.fvecs',  SIFT / 'data.learn.fvecs' )\n",
    "os.rename(SIFT / 'sift_query.fvecs',  SIFT / 'data.query.fvecs' )"
   ]
  },
  {
   "cell_type": "markdown",
   "metadata": {},
   "source": [
    "### Generate dataset in fasttext format"
   ]
  },
  {
   "cell_type": "code",
   "execution_count": null,
   "metadata": {
    "collapsed": true
   },
   "outputs": [],
   "source": [
    "from pymips.utils.data import prepare_ft"
   ]
  },
  {
   "cell_type": "code",
   "execution_count": null,
   "metadata": {
    "collapsed": true
   },
   "outputs": [],
   "source": [
    "prepare_ft(WIKI, WIKI, force=True)"
   ]
  },
  {
   "cell_type": "markdown",
   "metadata": {},
   "source": [
    "### Train a simple fasttext model on this data"
   ]
  },
  {
   "cell_type": "code",
   "execution_count": null,
   "metadata": {
    "collapsed": true
   },
   "outputs": [],
   "source": [
    "from pymips.utils.data import _fasttext_cmd\n",
    "import subprocess"
   ]
  },
  {
   "cell_type": "code",
   "execution_count": null,
   "metadata": {
    "collapsed": true
   },
   "outputs": [],
   "source": [
    "%%bash \n",
    "\n",
    "export CPATH=$(pwd)/../../\n",
    "export FAISS=$(pwd)/../../faiss/libfaiss.a\n",
    "\n",
    "cd /tmp\n",
    "git clone https://github.com/elanmart/fastText\n",
    "\n",
    "cd fastText\n",
    "    cp ${FAISS} .\n",
    "    make -j 8"
   ]
  },
  {
   "cell_type": "code",
   "execution_count": null,
   "metadata": {
    "collapsed": true
   },
   "outputs": [],
   "source": [
    "path = WIKI\n",
    "fasttext = '/tmp/fastText/fasttext'\n",
    "\n",
    "train_cmd = _fasttext_cmd(fasttext, 'supervised',\n",
    "                          input=os.path.join(path, 'train.ft.txt'),\n",
    "                          output=os.path.join(path, 'model.ft'),\n",
    "                          minCount=3,\n",
    "                          minCountLabel=3,\n",
    "                          lr=0.1,\n",
    "                          lrUpdateRate=100,\n",
    "                          dim=256,\n",
    "                          ws=5,\n",
    "                          epoch=25,\n",
    "                          neg=25,\n",
    "                          loss='ns',\n",
    "                          thread=8,\n",
    "                          saveOutput=1)\n",
    "\n",
    "generate_cmd = _fasttext_cmd(fasttext, 'to-fvecs',\n",
    "                             os.path.join(path, 'model.ft.bin'),\n",
    "                             os.path.join(path, 'test.ft.txt'),\n",
    "                             os.path.join(path, 'data'))\n",
    "\n",
    "subprocess.call(train_cmd)\n",
    "subprocess.call(generate_cmd)"
   ]
  },
  {
   "cell_type": "markdown",
   "metadata": {},
   "source": [
    "# Test the performance using some indexes"
   ]
  },
  {
   "cell_type": "code",
   "execution_count": null,
   "metadata": {
    "collapsed": true
   },
   "outputs": [],
   "source": [
    "from pymips.index import FlatIndex, IVFIndex, KMeansIndex\n",
    "from pymips.utils.data import load_sift, load_GT\n",
    "from pymips.utils.evaluation import evalaute"
   ]
  },
  {
   "cell_type": "code",
   "execution_count": null,
   "metadata": {
    "collapsed": true
   },
   "outputs": [],
   "source": [
    "def _load(path):\n",
    "    xb = load_sift(os.path.join(path, 'data.wo.fvecs'))\n",
    "    xq = load_sift(os.path.join(path, 'data.hid.fvecs'))\n",
    "    G  = load_GT(os.path.join(path, 'data.labels.txt'))\n",
    "\n",
    "    return xb, xq, G\n",
    "\n",
    "\n",
    "xb, xq, G = _load(WIKI)"
   ]
  },
  {
   "cell_type": "code",
   "execution_count": null,
   "metadata": {},
   "outputs": [],
   "source": [
    "idx = FlatIndex(xb.shape[1])\n",
    "idx.train(xb)\n",
    "idx.add(xb)\n",
    "\n",
    "%time (D, I) = idx.search(xq, 1)\n",
    "evalaute(D, I, G)"
   ]
  },
  {
   "cell_type": "code",
   "execution_count": null,
   "metadata": {},
   "outputs": [],
   "source": [
    "idx = IVFIndex(xb.shape[1], 4096, 64)\n",
    "idx.train(xb)\n",
    "idx.add(xb)\n",
    "\n",
    "%time (D, I) = idx.search(xq, 1)\n",
    "evalaute(D, I, G)"
   ]
  },
  {
   "cell_type": "code",
   "execution_count": null,
   "metadata": {},
   "outputs": [],
   "source": [
    "idx = KMeansIndex(xb.shape[1], 2, 64, 3, 0.85, False, False)\n",
    "idx.train(xb)\n",
    "idx.add(xb)\n",
    "\n",
    "%time (D, I) = idx.search(xq, 1, 64)\n",
    "evalaute(D, I, G)"
   ]
  }
 ],
 "metadata": {
  "kernelspec": {
   "display_name": "Python [conda root]",
   "language": "python",
   "name": "conda-root-py"
  },
  "language_info": {
   "codemirror_mode": {
    "name": "ipython",
    "version": 3
   },
   "file_extension": ".py",
   "mimetype": "text/x-python",
   "name": "python",
   "nbconvert_exporter": "python",
   "pygments_lexer": "ipython3",
   "version": "3.6.1"
  },
  "latex_envs": {
   "LaTeX_envs_menu_present": true,
   "autocomplete": true,
   "bibliofile": "biblio.bib",
   "cite_by": "apalike",
   "current_citInitial": 1,
   "eqLabelWithNumbers": true,
   "eqNumInitial": 1,
   "hotkeys": {
    "equation": "Ctrl-E",
    "itemize": "Ctrl-I"
   },
   "labels_anchors": false,
   "latex_user_defs": false,
   "report_style_numbering": false,
   "user_envs_cfg": false
  }
 },
 "nbformat": 4,
 "nbformat_minor": 1
}
