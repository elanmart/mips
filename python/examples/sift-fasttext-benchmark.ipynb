{
 "cells": [
  {
   "cell_type": "markdown",
   "metadata": {},
   "source": [
    "# Local data prep"
   ]
  },
  {
   "cell_type": "code",
   "execution_count": null,
   "metadata": {},
   "outputs": [],
   "source": [
    "import os\n",
    "import sys\n",
    "from pathlib import Path\n",
    "\n",
    "import json\n",
    "import boto3\n",
    "\n",
    "from mtest.data.core import prepare, make_ft_fvecs\n",
    "from mtest.data.sift import generate_gtIP"
   ]
  },
  {
   "cell_type": "markdown",
   "metadata": {},
   "source": [
    "Rename"
   ]
  },
  {
   "cell_type": "code",
   "execution_count": null,
   "metadata": {
    "collapsed": true
   },
   "outputs": [],
   "source": [
    "ROOT = Path('/home/elan/Samsung/storage/mips')\n",
    "\n",
    "WIKI = ROOT / 'WikiLSHTC'\n",
    "SIFT = ROOT / 'sift'"
   ]
  },
  {
   "cell_type": "code",
   "execution_count": null,
   "metadata": {
    "collapsed": true
   },
   "outputs": [],
   "source": [
    "os.rename(WIKI / 'wikiLSHTC_train.txt', WIKI / 'train.txt')\n",
    "os.rename(WIKI / 'wikiLSHTC_test.txt',  WIKI / 'test.txt')\n",
    "\n",
    "os.rename(AMZN / 'amazon-3M_train.txt', AMZN / 'train.txt')\n",
    "os.rename(AMZN / 'amazon-3M_test.txt',  AMZN / 'test.txt')\n",
    "\n",
    "os.rename(SML / 'siftsmall_base.fvecs',         SML / 'sift_base.fvecs' )\n",
    "os.rename(SML / 'siftsmall_groundtruth.ivecs',  SML / 'sift_groundtruth.ivecs' )\n",
    "os.rename(SML / 'siftsmall_learn.fvecs',        SML / 'sift_learn.fvecs' )\n",
    "os.rename(SML / 'siftsmall_query.fvecs',        SML / 'sift_query.fvecs' )"
   ]
  },
  {
   "cell_type": "markdown",
   "metadata": {},
   "source": [
    "Generate groundtruth for sift"
   ]
  },
  {
   "cell_type": "code",
   "execution_count": null,
   "metadata": {
    "collapsed": true
   },
   "outputs": [],
   "source": [
    "generate_gtIP(SIFT, SIFT, skip_tests=True)\n",
    "generate_gtIP(SML, SML, skip_tests=True)"
   ]
  },
  {
   "cell_type": "markdown",
   "metadata": {},
   "source": [
    "Rename sift"
   ]
  },
  {
   "cell_type": "code",
   "execution_count": null,
   "metadata": {
    "collapsed": true
   },
   "outputs": [],
   "source": [
    "for P in [SIFT, SML]:\n",
    "    os.rename(P / 'sift_base.fvecs',   P / 'data.base.fvecs' )\n",
    "    os.rename(P / 'sift_learn.fvecs',  P / 'data.learn.fvecs' )\n",
    "    os.rename(P / 'sift_query.fvecs',  P / 'data.query.fvecs' )"
   ]
  },
  {
   "cell_type": "markdown",
   "metadata": {},
   "source": [
    "Generate data for fasttext"
   ]
  },
  {
   "cell_type": "code",
   "execution_count": null,
   "metadata": {
    "scrolled": true
   },
   "outputs": [],
   "source": [
    "prepare(WIKI, WIKI, force=True)\n",
    "prepare(AMZN, AMZN, force=True)"
   ]
  },
  {
   "cell_type": "markdown",
   "metadata": {},
   "source": [
    "Generate fasttext features"
   ]
  },
  {
   "cell_type": "code",
   "execution_count": null,
   "metadata": {
    "collapsed": true
   },
   "outputs": [],
   "source": [
    "make_ft_fvecs('../../mips/fastText/fasttext', WIKI, 8)\n",
    "make_ft_fvecs('../../mips/fastText/fasttext', AMZN, 8)"
   ]
  }
 ],
 "metadata": {
  "kernelspec": {
   "display_name": "Python [conda root]",
   "language": "python",
   "name": "conda-root-py"
  },
  "language_info": {
   "codemirror_mode": {
    "name": "ipython",
    "version": 3.0
   },
   "file_extension": ".py",
   "mimetype": "text/x-python",
   "name": "python",
   "nbconvert_exporter": "python",
   "pygments_lexer": "ipython3",
   "version": "3.6.1"
  },
  "latex_envs": {
   "LaTeX_envs_menu_present": true,
   "autocomplete": true,
   "bibliofile": "biblio.bib",
   "cite_by": "apalike",
   "current_citInitial": 1.0,
   "eqLabelWithNumbers": true,
   "eqNumInitial": 1.0,
   "hotkeys": {
    "equation": "Ctrl-E",
    "itemize": "Ctrl-I"
   },
   "labels_anchors": false,
   "latex_user_defs": false,
   "report_style_numbering": false,
   "user_envs_cfg": false
  }
 },
 "nbformat": 4,
 "nbformat_minor": 0
}