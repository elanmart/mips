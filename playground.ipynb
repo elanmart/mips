{
 "cells": [
  {
   "cell_type": "code",
   "execution_count": 1,
   "metadata": {
    "collapsed": true
   },
   "outputs": [],
   "source": [
    "import numpy as np\n",
    "import struct"
   ]
  },
  {
   "cell_type": "code",
   "execution_count": 16,
   "metadata": {
    "collapsed": true
   },
   "outputs": [],
   "source": [
    "def read(fname, dtype):\n",
    "    with open(fname, 'rb') as f:\n",
    "        data = f.read()\n",
    "        \n",
    "    d, data = data[:4], data[4:]\n",
    "    \n",
    "    d,   = struct.unpack('i', d)  # unpack 4 bytes into signed int ('i')\n",
    "    data = np.frombuffer(data, dtype=dtype)\n",
    "\n",
    "    if d > 1:\n",
    "        data = data.reshape(-1, d)\n",
    "    \n",
    "    return data"
   ]
  },
  {
   "cell_type": "code",
   "execution_count": 17,
   "metadata": {
    "collapsed": false
   },
   "outputs": [],
   "source": [
    "predictions = read(\"./vectors/preds.bin\", dtype=np.int32)\n",
    "\n",
    "v_cp  = read(\"./vectors/vectors_copy.bin\", dtype=np.float32)\n",
    "v_new = read(\"./vectors/vectors.bin\", dtype=np.float32)\n",
    "\n",
    "q_cp  = read(\"./vectors/queries_copy.bin\", dtype=np.float32)\n",
    "q_new = read(\"./vectors/queries.bin\", dtype=np.float32)"
   ]
  },
  {
   "cell_type": "code",
   "execution_count": 22,
   "metadata": {
    "collapsed": false
   },
   "outputs": [],
   "source": [
    "orig = q_cp  @ v_cp.T\n",
    "new  = q_new @ v_new.T"
   ]
  },
  {
   "cell_type": "code",
   "execution_count": 24,
   "metadata": {
    "collapsed": true
   },
   "outputs": [],
   "source": [
    "true_orig = np.argmax(orig, axis=1)\n",
    "true_new  = np.argmax(new,  axis=1)"
   ]
  },
  {
   "cell_type": "code",
   "execution_count": 25,
   "metadata": {
    "collapsed": false
   },
   "outputs": [
    {
     "data": {
      "text/plain": [
       "(0.90000000000000002, 0.90000000000000002)"
      ]
     },
     "execution_count": 25,
     "metadata": {},
     "output_type": "execute_result"
    }
   ],
   "source": [
    "np.mean(predictions == true_orig), np.mean(predictions == true_new)"
   ]
  },
  {
   "cell_type": "code",
   "execution_count": null,
   "metadata": {
    "collapsed": true
   },
   "outputs": [],
   "source": []
  },
  {
   "cell_type": "code",
   "execution_count": null,
   "metadata": {
    "collapsed": true
   },
   "outputs": [],
   "source": []
  }
 ],
 "metadata": {
  "kernelspec": {
   "display_name": "Python 3",
   "language": "python",
   "name": "python3"
  }
 },
 "nbformat": 4,
 "nbformat_minor": 2
}
